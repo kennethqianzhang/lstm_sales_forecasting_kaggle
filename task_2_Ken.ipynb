{
 "cells": [
  {
   "cell_type": "code",
   "execution_count": 16,
   "metadata": {
    "id": "ZSn0_gt7HIay"
   },
   "outputs": [],
   "source": [
    "import pandas as pd\n",
    "import csv\n",
    "import numpy as np\n",
    "from pandas import concat\n",
    "from pandas import Series\n",
    "\n",
    "import tensorflow as tf\n",
    "from sklearn.model_selection import train_test_split\n",
    "from tensorflow.keras import optimizers, Sequential, Model\n",
    "import tensorflow.keras.layers as L\n",
    "import matplotlib.pyplot as plt"
   ]
  },
  {
   "cell_type": "code",
   "execution_count": 2,
   "metadata": {
    "id": "kS485xnTCzGG"
   },
   "outputs": [],
   "source": [
    "train = pd.read_csv('train.csv')\n",
    "# import the data since I trained the model using colab as suggested"
   ]
  },
  {
   "cell_type": "code",
   "execution_count": 3,
   "metadata": {
    "id": "Zf1e0zSDOfCd"
   },
   "outputs": [],
   "source": [
    "df = train.iloc[1: , :]"
   ]
  },
  {
   "cell_type": "code",
   "execution_count": 4,
   "metadata": {
    "colab": {
     "base_uri": "https://localhost:8080/",
     "height": 204
    },
    "id": "nj990ydZcbzY",
    "outputId": "0dfe275a-1f47-4ebb-d0d0-49508566be22"
   },
   "outputs": [
    {
     "data": {
      "text/html": [
       "\n",
       "  <div id=\"df-db7f2661-cbf5-4ecb-a348-266de2c456be\">\n",
       "    <div class=\"colab-df-container\">\n",
       "      <div>\n",
       "<style scoped>\n",
       "    .dataframe tbody tr th:only-of-type {\n",
       "        vertical-align: middle;\n",
       "    }\n",
       "\n",
       "    .dataframe tbody tr th {\n",
       "        vertical-align: top;\n",
       "    }\n",
       "\n",
       "    .dataframe thead th {\n",
       "        text-align: right;\n",
       "    }\n",
       "</style>\n",
       "<table border=\"1\" class=\"dataframe\">\n",
       "  <thead>\n",
       "    <tr style=\"text-align: right;\">\n",
       "      <th></th>\n",
       "      <th>shop_id</th>\n",
       "      <th>item_id</th>\n",
       "      <th>0</th>\n",
       "      <th>1</th>\n",
       "      <th>2</th>\n",
       "      <th>3</th>\n",
       "      <th>4</th>\n",
       "      <th>5</th>\n",
       "      <th>6</th>\n",
       "      <th>7</th>\n",
       "      <th>8</th>\n",
       "      <th>9</th>\n",
       "      <th>10</th>\n",
       "      <th>11</th>\n",
       "      <th>label</th>\n",
       "    </tr>\n",
       "  </thead>\n",
       "  <tbody>\n",
       "    <tr>\n",
       "      <th>0</th>\n",
       "      <td>2.0</td>\n",
       "      <td>30.0</td>\n",
       "      <td>0.0</td>\n",
       "      <td>0.0</td>\n",
       "      <td>0.0</td>\n",
       "      <td>0.0</td>\n",
       "      <td>0.0</td>\n",
       "      <td>0.0</td>\n",
       "      <td>0.0</td>\n",
       "      <td>0.0</td>\n",
       "      <td>0.0</td>\n",
       "      <td>0.0</td>\n",
       "      <td>0.0</td>\n",
       "      <td>0.0</td>\n",
       "      <td>0.0</td>\n",
       "    </tr>\n",
       "    <tr>\n",
       "      <th>1</th>\n",
       "      <td>2.0</td>\n",
       "      <td>30.0</td>\n",
       "      <td>0.0</td>\n",
       "      <td>0.0</td>\n",
       "      <td>0.0</td>\n",
       "      <td>0.0</td>\n",
       "      <td>0.0</td>\n",
       "      <td>0.0</td>\n",
       "      <td>0.0</td>\n",
       "      <td>0.0</td>\n",
       "      <td>0.0</td>\n",
       "      <td>0.0</td>\n",
       "      <td>0.0</td>\n",
       "      <td>0.0</td>\n",
       "      <td>0.0</td>\n",
       "    </tr>\n",
       "    <tr>\n",
       "      <th>2</th>\n",
       "      <td>2.0</td>\n",
       "      <td>31.0</td>\n",
       "      <td>0.0</td>\n",
       "      <td>0.0</td>\n",
       "      <td>0.0</td>\n",
       "      <td>0.0</td>\n",
       "      <td>0.0</td>\n",
       "      <td>0.0</td>\n",
       "      <td>0.0</td>\n",
       "      <td>0.0</td>\n",
       "      <td>0.0</td>\n",
       "      <td>0.0</td>\n",
       "      <td>0.0</td>\n",
       "      <td>0.0</td>\n",
       "      <td>0.0</td>\n",
       "    </tr>\n",
       "    <tr>\n",
       "      <th>3</th>\n",
       "      <td>2.0</td>\n",
       "      <td>31.0</td>\n",
       "      <td>0.0</td>\n",
       "      <td>0.0</td>\n",
       "      <td>0.0</td>\n",
       "      <td>0.0</td>\n",
       "      <td>0.0</td>\n",
       "      <td>0.0</td>\n",
       "      <td>0.0</td>\n",
       "      <td>0.0</td>\n",
       "      <td>0.0</td>\n",
       "      <td>0.0</td>\n",
       "      <td>0.0</td>\n",
       "      <td>0.0</td>\n",
       "      <td>0.0</td>\n",
       "    </tr>\n",
       "    <tr>\n",
       "      <th>4</th>\n",
       "      <td>2.0</td>\n",
       "      <td>32.0</td>\n",
       "      <td>0.0</td>\n",
       "      <td>1.0</td>\n",
       "      <td>0.0</td>\n",
       "      <td>2.0</td>\n",
       "      <td>2.0</td>\n",
       "      <td>0.0</td>\n",
       "      <td>2.0</td>\n",
       "      <td>0.0</td>\n",
       "      <td>0.0</td>\n",
       "      <td>1.0</td>\n",
       "      <td>0.0</td>\n",
       "      <td>0.0</td>\n",
       "      <td>0.0</td>\n",
       "    </tr>\n",
       "  </tbody>\n",
       "</table>\n",
       "</div>\n",
       "      <button class=\"colab-df-convert\" onclick=\"convertToInteractive('df-db7f2661-cbf5-4ecb-a348-266de2c456be')\"\n",
       "              title=\"Convert this dataframe to an interactive table.\"\n",
       "              style=\"display:none;\">\n",
       "        \n",
       "  <svg xmlns=\"http://www.w3.org/2000/svg\" height=\"24px\"viewBox=\"0 0 24 24\"\n",
       "       width=\"24px\">\n",
       "    <path d=\"M0 0h24v24H0V0z\" fill=\"none\"/>\n",
       "    <path d=\"M18.56 5.44l.94 2.06.94-2.06 2.06-.94-2.06-.94-.94-2.06-.94 2.06-2.06.94zm-11 1L8.5 8.5l.94-2.06 2.06-.94-2.06-.94L8.5 2.5l-.94 2.06-2.06.94zm10 10l.94 2.06.94-2.06 2.06-.94-2.06-.94-.94-2.06-.94 2.06-2.06.94z\"/><path d=\"M17.41 7.96l-1.37-1.37c-.4-.4-.92-.59-1.43-.59-.52 0-1.04.2-1.43.59L10.3 9.45l-7.72 7.72c-.78.78-.78 2.05 0 2.83L4 21.41c.39.39.9.59 1.41.59.51 0 1.02-.2 1.41-.59l7.78-7.78 2.81-2.81c.8-.78.8-2.07 0-2.86zM5.41 20L4 18.59l7.72-7.72 1.47 1.35L5.41 20z\"/>\n",
       "  </svg>\n",
       "      </button>\n",
       "      \n",
       "  <style>\n",
       "    .colab-df-container {\n",
       "      display:flex;\n",
       "      flex-wrap:wrap;\n",
       "      gap: 12px;\n",
       "    }\n",
       "\n",
       "    .colab-df-convert {\n",
       "      background-color: #E8F0FE;\n",
       "      border: none;\n",
       "      border-radius: 50%;\n",
       "      cursor: pointer;\n",
       "      display: none;\n",
       "      fill: #1967D2;\n",
       "      height: 32px;\n",
       "      padding: 0 0 0 0;\n",
       "      width: 32px;\n",
       "    }\n",
       "\n",
       "    .colab-df-convert:hover {\n",
       "      background-color: #E2EBFA;\n",
       "      box-shadow: 0px 1px 2px rgba(60, 64, 67, 0.3), 0px 1px 3px 1px rgba(60, 64, 67, 0.15);\n",
       "      fill: #174EA6;\n",
       "    }\n",
       "\n",
       "    [theme=dark] .colab-df-convert {\n",
       "      background-color: #3B4455;\n",
       "      fill: #D2E3FC;\n",
       "    }\n",
       "\n",
       "    [theme=dark] .colab-df-convert:hover {\n",
       "      background-color: #434B5C;\n",
       "      box-shadow: 0px 1px 3px 1px rgba(0, 0, 0, 0.15);\n",
       "      filter: drop-shadow(0px 1px 2px rgba(0, 0, 0, 0.3));\n",
       "      fill: #FFFFFF;\n",
       "    }\n",
       "  </style>\n",
       "\n",
       "      <script>\n",
       "        const buttonEl =\n",
       "          document.querySelector('#df-db7f2661-cbf5-4ecb-a348-266de2c456be button.colab-df-convert');\n",
       "        buttonEl.style.display =\n",
       "          google.colab.kernel.accessAllowed ? 'block' : 'none';\n",
       "\n",
       "        async function convertToInteractive(key) {\n",
       "          const element = document.querySelector('#df-db7f2661-cbf5-4ecb-a348-266de2c456be');\n",
       "          const dataTable =\n",
       "            await google.colab.kernel.invokeFunction('convertToInteractive',\n",
       "                                                     [key], {});\n",
       "          if (!dataTable) return;\n",
       "\n",
       "          const docLinkHtml = 'Like what you see? Visit the ' +\n",
       "            '<a target=\"_blank\" href=https://colab.research.google.com/notebooks/data_table.ipynb>data table notebook</a>'\n",
       "            + ' to learn more about interactive tables.';\n",
       "          element.innerHTML = '';\n",
       "          dataTable['output_type'] = 'display_data';\n",
       "          await google.colab.output.renderOutput(dataTable, element);\n",
       "          const docLink = document.createElement('div');\n",
       "          docLink.innerHTML = docLinkHtml;\n",
       "          element.appendChild(docLink);\n",
       "        }\n",
       "      </script>\n",
       "    </div>\n",
       "  </div>\n",
       "  "
      ],
      "text/plain": [
       "   shop_id  item_id    0    1    2    3    4    5    6    7    8    9   10  \\\n",
       "0      2.0     30.0  0.0  0.0  0.0  0.0  0.0  0.0  0.0  0.0  0.0  0.0  0.0   \n",
       "1      2.0     30.0  0.0  0.0  0.0  0.0  0.0  0.0  0.0  0.0  0.0  0.0  0.0   \n",
       "2      2.0     31.0  0.0  0.0  0.0  0.0  0.0  0.0  0.0  0.0  0.0  0.0  0.0   \n",
       "3      2.0     31.0  0.0  0.0  0.0  0.0  0.0  0.0  0.0  0.0  0.0  0.0  0.0   \n",
       "4      2.0     32.0  0.0  1.0  0.0  2.0  2.0  0.0  2.0  0.0  0.0  1.0  0.0   \n",
       "\n",
       "    11  label  \n",
       "0  0.0    0.0  \n",
       "1  0.0    0.0  \n",
       "2  0.0    0.0  \n",
       "3  0.0    0.0  \n",
       "4  0.0    0.0  "
      ]
     },
     "execution_count": 4,
     "metadata": {},
     "output_type": "execute_result"
    }
   ],
   "source": [
    "first_month = 20\n",
    "last_month = 33\n",
    "serie_size = 12\n",
    "data_series = []\n",
    "\n",
    "for index, row in df.iterrows():\n",
    "    for month1 in range((last_month - (first_month + serie_size)) + 1):\n",
    "        serie = [row['shop_id'], row['item_id']]\n",
    "        for month2 in range(serie_size + 1):\n",
    "            serie.append(row[month1 + first_month + month2])\n",
    "        data_series.append(serie)\n",
    "\n",
    "columns = ['shop_id', 'item_id']\n",
    "[columns.append(i) for i in range(serie_size)]\n",
    "columns.append('label')\n",
    "\n",
    "data_series = pd.DataFrame(data_series, columns=columns)\n",
    "data_series.head()"
   ]
  },
  {
   "cell_type": "code",
   "execution_count": 5,
   "metadata": {
    "id": "QWWdxOcEcy3o"
   },
   "outputs": [],
   "source": [
    "data_series = data_series.drop(['item_id', 'shop_id'], axis=1)\n",
    "labels = data_series['label']\n",
    "data_series.drop('label', axis=1, inplace=True)"
   ]
  },
  {
   "cell_type": "code",
   "execution_count": 6,
   "metadata": {
    "id": "-z_91u15c8Zj"
   },
   "outputs": [],
   "source": [
    "train, valid, Y_train, Y_valid = train_test_split(data_series, labels.values, test_size=0.10, random_state=0)"
   ]
  },
  {
   "cell_type": "code",
   "execution_count": 7,
   "metadata": {
    "id": "FnO2FOuJdSY5"
   },
   "outputs": [],
   "source": [
    "X_train = train.values.reshape((train.shape[0], train.shape[1], 1))\n",
    "X_valid = valid.values.reshape((valid.shape[0], valid.shape[1], 1))\n"
   ]
  },
  {
   "cell_type": "code",
   "execution_count": 11,
   "metadata": {
    "id": "tntJqUOjf3bB"
   },
   "outputs": [],
   "source": [
    "def create_uncompiled_model():\n",
    "  # define a sequential model\n",
    "  lstm_model = Sequential()\n",
    "  lstm_model.add(L.LSTM(20, input_shape=(12, 1), return_sequences=True))\n",
    "  lstm_model.add(L.LSTM(10, activation='relu', return_sequences=True))\n",
    "  lstm_model.add(L.LSTM(1, activation='relu'))\n",
    "  lstm_model.add(L.Dense(10, kernel_initializer='glorot_normal', activation='relu'))\n",
    "  lstm_model.add(L.Dense(5, kernel_initializer='glorot_normal', activation='relu'))\n",
    "  lstm_model.add(L.Dense(1))\n",
    "\n",
    "  return lstm_model"
   ]
  },
  {
   "cell_type": "code",
   "execution_count": 13,
   "metadata": {
    "id": "gjuvH7-ViUC4"
   },
   "outputs": [],
   "source": [
    "\n",
    "class EarlyStopping(tf.keras.callbacks.Callback):\n",
    "  def on_epoch_end(self, epoch, logs={}):\n",
    "    \n",
    "    if(logs.get('mse') < 0.03):\n",
    "      print(\"\\nMAEthreshold reached. Training stopped.\")\n",
    "      self.model.stop_training = True\n",
    "\n",
    "# Let's create an object of our class and assign it to a variable\n",
    "early_stopping = EarlyStopping()"
   ]
  },
  {
   "cell_type": "code",
   "execution_count": null,
   "metadata": {
    "tags": []
   },
   "outputs": [],
   "source": [
    "\n",
    "def create_model():\n",
    "    tf.random.set_seed(0)\n",
    "  \n",
    "    model = create_uncompiled_model()\n",
    "  \n",
    "    model.compile(loss=tf.keras.losses.Huber(), \n",
    "                  optimizer=tf.keras.optimizers.Adam(learning_rate=0.001),\n",
    "                  metrics=[\"mse\"])  \n",
    "    return model\n",
    "  \n",
    "model = create_model()"
   ]
  },
  {
   "cell_type": "code",
   "execution_count": 14,
   "metadata": {
    "colab": {
     "base_uri": "https://localhost:8080/"
    },
    "id": "fBIVXXBYlXI9",
    "outputId": "9cde4418-0798-4167-aaf6-19dcaafcdeb8"
   },
   "outputs": [
    {
     "name": "stderr",
     "output_type": "stream",
     "text": [
      "WARNING:tensorflow:Layer lstm_7 will not use cuDNN kernels since it doesn't meet the criteria. It will use a generic GPU kernel as fallback when running on GPU.\n",
      "WARNING:tensorflow:Layer lstm_8 will not use cuDNN kernels since it doesn't meet the criteria. It will use a generic GPU kernel as fallback when running on GPU.\n"
     ]
    },
    {
     "name": "stdout",
     "output_type": "stream",
     "text": [
      "Epoch 1/20\n",
      "1551/1551 - 74s - loss: 0.2320 - mse: 1.0616 - val_loss: 0.2189 - val_mse: 0.9462 - 74s/epoch - 48ms/step\n",
      "Epoch 2/20\n",
      "1551/1551 - 72s - loss: 0.2221 - mse: 0.9548 - val_loss: 0.2183 - val_mse: 0.9428 - 72s/epoch - 46ms/step\n",
      "Epoch 3/20\n",
      "1551/1551 - 74s - loss: 0.2217 - mse: 0.9527 - val_loss: 0.2225 - val_mse: 0.9275 - 74s/epoch - 48ms/step\n",
      "Epoch 4/20\n",
      "1551/1551 - 73s - loss: 0.2211 - mse: 0.9488 - val_loss: 0.2190 - val_mse: 0.9205 - 73s/epoch - 47ms/step\n",
      "Epoch 5/20\n",
      "1551/1551 - 71s - loss: 0.2209 - mse: 0.9479 - val_loss: 0.2182 - val_mse: 0.9258 - 71s/epoch - 46ms/step\n",
      "Epoch 6/20\n",
      "1551/1551 - 72s - loss: 0.2208 - mse: 0.9456 - val_loss: 0.2181 - val_mse: 0.9459 - 72s/epoch - 46ms/step\n",
      "Epoch 7/20\n",
      "1551/1551 - 70s - loss: 0.2207 - mse: 0.9470 - val_loss: 0.2181 - val_mse: 0.9371 - 70s/epoch - 45ms/step\n",
      "Epoch 8/20\n",
      "1551/1551 - 71s - loss: 0.2207 - mse: 0.9461 - val_loss: 0.2182 - val_mse: 0.9470 - 71s/epoch - 46ms/step\n",
      "Epoch 9/20\n",
      "1551/1551 - 70s - loss: 0.2206 - mse: 0.9463 - val_loss: 0.2183 - val_mse: 0.9342 - 70s/epoch - 45ms/step\n",
      "Epoch 10/20\n",
      "1551/1551 - 72s - loss: 0.2204 - mse: 0.9447 - val_loss: 0.2176 - val_mse: 0.9327 - 72s/epoch - 47ms/step\n",
      "Epoch 11/20\n",
      "1551/1551 - 69s - loss: 0.2204 - mse: 0.9442 - val_loss: 0.2179 - val_mse: 0.9484 - 69s/epoch - 45ms/step\n",
      "Epoch 12/20\n",
      "1551/1551 - 69s - loss: 0.2203 - mse: 0.9435 - val_loss: 0.2192 - val_mse: 0.9266 - 69s/epoch - 45ms/step\n",
      "Epoch 13/20\n",
      "1551/1551 - 71s - loss: 0.2204 - mse: 0.9439 - val_loss: 0.2182 - val_mse: 0.9396 - 71s/epoch - 46ms/step\n",
      "Epoch 14/20\n",
      "1551/1551 - 70s - loss: 0.2201 - mse: 0.9416 - val_loss: 0.2176 - val_mse: 0.9280 - 70s/epoch - 45ms/step\n",
      "Epoch 15/20\n",
      "1551/1551 - 71s - loss: 0.2202 - mse: 0.9428 - val_loss: 0.2173 - val_mse: 0.9297 - 71s/epoch - 46ms/step\n",
      "Epoch 16/20\n",
      "1551/1551 - 69s - loss: 0.2199 - mse: 0.9416 - val_loss: 0.2180 - val_mse: 0.9310 - 69s/epoch - 44ms/step\n",
      "Epoch 17/20\n",
      "1551/1551 - 70s - loss: 0.2200 - mse: 0.9406 - val_loss: 0.2197 - val_mse: 0.9205 - 70s/epoch - 45ms/step\n",
      "Epoch 18/20\n",
      "1551/1551 - 69s - loss: 0.2198 - mse: 0.9397 - val_loss: 0.2187 - val_mse: 0.9281 - 69s/epoch - 44ms/step\n",
      "Epoch 19/20\n",
      "1551/1551 - 70s - loss: 0.2198 - mse: 0.9385 - val_loss: 0.2198 - val_mse: 0.9213 - 70s/epoch - 45ms/step\n",
      "Epoch 20/20\n",
      "1551/1551 - 69s - loss: 0.2198 - mse: 0.9400 - val_loss: 0.2180 - val_mse: 0.9192 - 69s/epoch - 44ms/step\n"
     ]
    }
   ],
   "source": [
    "# After hyperparameter tuning for batch_size and epochs using Gridsearch, \n",
    "# considering the trade-off, we choose \n",
    "# epochs = 20 and batch_size =128 \n",
    "\n",
    "# we train for 20 epochs with and assign the callback\n",
    "history = model.fit(X_train, Y_train, epochs=20, validation_data=(X_valid, Y_valid), \n",
    "                              batch_size = 128,\n",
    "                              verbose=2, callbacks=[early_stopping])"
   ]
  },
  {
   "cell_type": "code",
   "execution_count": 19,
   "metadata": {
    "colab": {
     "base_uri": "https://localhost:8080/",
     "height": 374
    },
    "id": "jDjfdXfVsCzl",
    "outputId": "a2e9dbd9-24cc-4f12-9932-83a4d8d5f385"
   },
   "outputs": [
    {
     "data": {
      "image/png": "[encoded data removed]",
      "text/plain": [
       "<Figure size 720x432 with 1 Axes>"
      ]
     },
     "metadata": {
      "needs_background": "light"
     },
     "output_type": "display_data"
    }
   ],
   "source": [
    "# plot MAE and loss\n",
    "plt.figure(figsize=(10, 6))\n",
    "plt.plot(history.history['mse'], label='mse')\n",
    "plt.legend()\n",
    "plt.show()"
   ]
  },
  {
   "cell_type": "code",
   "execution_count": null,
   "metadata": {
    "id": "2crTEeJ7Y8GQ"
   },
   "outputs": [],
   "source": []
  }
 ],
 "metadata": {
  "accelerator": "GPU",
  "colab": {
   "collapsed_sections": [],
   "provenance": []
  },
  "kernelspec": {
   "display_name": "Python 3 (ipykernel)",
   "language": "python",
   "name": "python3"
  },
  "language_info": {
   "codemirror_mode": {
    "name": "ipython",
    "version": 3
   },
   "file_extension": ".py",
   "mimetype": "text/x-python",
   "name": "python",
   "nbconvert_exporter": "python",
   "pygments_lexer": "ipython3",
   "version": "3.9.12"
  }
 },
 "nbformat": 4,
 "nbformat_minor": 4
}
